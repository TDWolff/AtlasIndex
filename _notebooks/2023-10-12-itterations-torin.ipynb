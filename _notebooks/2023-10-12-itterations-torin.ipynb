{
 "cells": [
  {
   "cell_type": "markdown",
   "metadata": {},
   "source": [
    "### Hack 1"
   ]
  },
  {
   "cell_type": "code",
   "execution_count": 3,
   "metadata": {},
   "outputs": [
    {
     "name": "stdout",
     "output_type": "stream",
     "text": [
      "Input 0: 1, Type: <class 'int'>\n",
      "Input 1: ae, Type: <class 'str'>\n",
      "Input 2: 2, Type: <class 'int'>\n",
      "Input 3: be, Type: <class 'str'>\n",
      "Input 4: 3, Type: <class 'int'>\n"
     ]
    }
   ],
   "source": [
    "# get X amount of inputs\n",
    "num_inputs = 5\n",
    "inputs = {}\n",
    "for i in range(num_inputs):\n",
    "    user_input = input(\"Enter a value: \")\n",
    "    try:\n",
    "        inputs[i] = int(user_input)\n",
    "    except ValueError:\n",
    "        inputs[i] = user_input\n",
    "\n",
    "# find the type of each value\n",
    "for i, value in inputs.items():\n",
    "    print(f\"Input {i}: {value}, Type: {type(value)}\")\n"
   ]
  },
  {
   "cell_type": "markdown",
   "metadata": {},
   "source": [
    "### Hack 2"
   ]
  },
  {
   "cell_type": "code",
   "execution_count": 17,
   "metadata": {},
   "outputs": [
    {
     "name": "stdout",
     "output_type": "stream",
     "text": [
      "3\n",
      "6\n",
      "9\n",
      "12\n"
     ]
    }
   ],
   "source": [
    "my_list = []\n",
    "for i in range(1, 13):\n",
    "    user_input = int(input(f\"Enter integer {i}: \"))\n",
    "    my_list.append(user_input)\n",
    "for num in my_list:\n",
    "    if num % 3 == 0:\n",
    "        print(num)\n"
   ]
  },
  {
   "cell_type": "markdown",
   "metadata": {},
   "source": [
    "### Hack 3"
   ]
  },
  {
   "cell_type": "code",
   "execution_count": 29,
   "metadata": {},
   "outputs": [
    {
     "name": "stdout",
     "output_type": "stream",
     "text": [
      "The length of 1 is 1\n",
      "The square root of 2 is 1.4142135623730951\n",
      "The square root of 3 is 1.7320508075688772\n",
      "The square root of 4 is 2.0\n",
      "The square root of 5 is 2.23606797749979\n",
      "The length of [6, 7] is 2\n"
     ]
    }
   ],
   "source": [
    "import math\n",
    "imported_math = False\n",
    "\n",
    "# check if math module is already imported\n",
    "for i, cell in enumerate(In):\n",
    "    if 'import math' in cell:\n",
    "        imported_math = True\n",
    "        break\n",
    "\n",
    "# import math module if not already imported\n",
    "if not imported_math:\n",
    "    import math\n",
    "\n",
    "# create a list with integers\n",
    "my_list = [str(1), 2, 3, 4, 5, [6, 7]]\n",
    "\n",
    "# loop through the list and try to access the length attribute of each element\n",
    "for element in my_list:\n",
    "    try:\n",
    "        length = len(element)\n",
    "        print(f\"The length of {element} is {length}\")\n",
    "    except TypeError:\n",
    "        try:\n",
    "            length = math.sqrt(element)\n",
    "            print(f\"The square root of {element} is {length}\")\n",
    "        except TypeError:\n",
    "            print(f\"{element} does not have a length attribute or a square root. It is not a string, a sequence, or a number.\")\n"
   ]
  },
  {
   "cell_type": "markdown",
   "metadata": {},
   "source": [
    "### Hack 4"
   ]
  },
  {
   "cell_type": "code",
   "execution_count": 30,
   "metadata": {},
   "outputs": [
    {
     "name": "stdout",
     "output_type": "stream",
     "text": [
      "Name: Alice\n",
      "Info 0: 25\n",
      "Info 1: A\n",
      "Name: Bob\n",
      "Info 0: 30\n",
      "Skipping Bob because grade is B\n",
      "Name: Charlie\n",
      "Skipping Charlie because age is greater than 30\n"
     ]
    }
   ],
   "source": [
    "# create a dictionary with sample data\n",
    "data = {'Alice': [25, 'A'], 'Bob': [30, 'B'], 'Charlie': [35, 'C']}\n",
    "\n",
    "# iterate over the dictionary\n",
    "for name, info in data.items():\n",
    "    print(f\"Name: {name}\")\n",
    "    for i, value in enumerate(info):\n",
    "        if i == 0 and value > 30:\n",
    "            print(f\"Skipping {name} because age is greater than 30\")\n",
    "            break\n",
    "        elif i == 1 and value == 'B':\n",
    "            print(f\"Skipping {name} because grade is B\")\n",
    "            continue\n",
    "        print(f\"Info {i}: {value}\")\n"
   ]
  },
  {
   "cell_type": "markdown",
   "metadata": {},
   "source": [
    "### Homework 1"
   ]
  },
  {
   "cell_type": "code",
   "execution_count": 34,
   "metadata": {},
   "outputs": [
    {
     "name": "stdout",
     "output_type": "stream",
     "text": [
      "{'Alice': 'A', 'Bob': 'B', 'Charlie': 'C', 'David': 'D', 'Eve': 'A'}\n"
     ]
    }
   ],
   "source": [
    "students = {}\n",
    "student_names = ['Alice', 'Bob', 'Charlie', 'David', 'Eve']\n",
    "num_students = int(input(\"How many students do you want to add? \"))\n",
    "\n",
    "for i in range(num_students):\n",
    "    if not student_names:\n",
    "        print(\"Error: Not enough student names.\")\n",
    "        break\n",
    "    name = student_names.pop(0)\n",
    "    grade = input(\"Enter student grade: \")\n",
    "    students[name] = grade\n",
    "\n",
    "print(students)"
   ]
  },
  {
   "cell_type": "code",
   "execution_count": 35,
   "metadata": {},
   "outputs": [
    {
     "name": "stdout",
     "output_type": "stream",
     "text": [
      "Error: Not enough student names.\n",
      "{'Alice': 57, 'Bob': 79, 'Charlie': 94, 'David': 89, 'Eve': 97, 'Frank': 70, 'Grace': 50, 'Henry': 75, 'Isabella': 67, 'Jack': 93}\n",
      "The highest grade is 97\n",
      "The students who passed are: ['Bob', 'Charlie', 'David', 'Eve', 'Frank', 'Henry', 'Jack']\n"
     ]
    }
   ],
   "source": [
    "import random\n",
    "\n",
    "passing_grade = 70\n",
    "students = {}\n",
    "student_names = ['Alice', 'Bob', 'Charlie', 'David', 'Eve', 'Frank', 'Grace', 'Henry', 'Isabella', 'Jack']\n",
    "num_students = int(input(\"How many students do you want to add? \"))\n",
    "\n",
    "for i in range(num_students):\n",
    "    if not student_names:\n",
    "        print(\"Error: Not enough student names.\")\n",
    "        break\n",
    "    name = student_names.pop(0)\n",
    "    grade = random.randint(50, 100)\n",
    "    students[name] = grade\n",
    "\n",
    "print(students)\n",
    "\n",
    "highest_grade = 0\n",
    "passed_students = []\n",
    "\n",
    "for name, grade in students.items():\n",
    "    if grade > highest_grade:\n",
    "        highest_grade = grade\n",
    "    if grade >= passing_grade:\n",
    "        passed_students.append(name)\n",
    "\n",
    "print(f\"The highest grade is {highest_grade}\")\n",
    "print(f\"The students who passed are: {passed_students}\")\n"
   ]
  },
  {
   "cell_type": "code",
   "execution_count": 43,
   "metadata": {},
   "outputs": [
    {
     "name": "stdout",
     "output_type": "stream",
     "text": [
      "{'Alice': 64.5, 'Bob': 75.6, 'Charlie': 60.1, 'David': 91.0, 'Eve': 86.0, 'Frank': 53.8, 'Grace': 95.4, 'Henry': 59.5, 'Isabella': 51.6, 'Jack': 97.1, 'Kate': 74.0, 'Liam': 58.6}\n",
      "The highest grade is 97.1\n",
      "The students who passed are: ['Bob', 'David', 'Eve', 'Grace', 'Jack', 'Kate']\n"
     ]
    }
   ],
   "source": [
    "# Section 3\n",
    "import random\n",
    "\n",
    "passing_grade = 70\n",
    "students = {}\n",
    "student_names = ['Alice', 'Bob', 'Charlie', 'David', 'Eve', 'Frank', 'Grace', 'Henry', 'Isabella', 'Jack', 'Kate', 'Liam']\n",
    "num_students = min(int(input(\"How many students do you want to add? \")), 12)\n",
    "\n",
    "for i in range(num_students):\n",
    "    if not student_names:\n",
    "        print(\"Error: Not enough student names.\")\n",
    "        break\n",
    "    name = student_names.pop(0)\n",
    "    grade = round(random.uniform(50, 100), 1)\n",
    "    students[name] = grade\n",
    "\n",
    "print(students)\n",
    "\n",
    "highest_grade = 0\n",
    "passed_students = []\n",
    "\n",
    "for name, grade in students.items():\n",
    "    if grade > highest_grade:\n",
    "        highest_grade = grade\n",
    "    if grade >= passing_grade:\n",
    "        passed_students.append(name)\n",
    "\n",
    "print(f\"The highest grade is {highest_grade}\")\n",
    "print(f\"The students who passed are: {passed_students}\")\n"
   ]
  },
  {
   "cell_type": "code",
   "execution_count": 44,
   "metadata": {},
   "outputs": [
    {
     "name": "stdout",
     "output_type": "stream",
     "text": [
      "Invalid input. Please enter an integer.\n",
      "{'Alice': 14, 'Bob': 32, 'Charlie': 97, 'David': 86, 'Eve': 97, 'Frank': 96, 'Grace': 98, 'Henry': 76, 'Isabella': 87, 'Jack': 76, 'Kate': 74, 'Liam': 70}\n",
      "The highest grade is 98\n",
      "The students who passed are: ['Charlie', 'David', 'Eve', 'Frank', 'Grace', 'Henry', 'Isabella', 'Jack', 'Kate', 'Liam']\n"
     ]
    }
   ],
   "source": [
    "# Section 4 Bonus\n",
    "\n",
    "import random\n",
    "\n",
    "passing_grade = 70\n",
    "students = {}\n",
    "student_names = ['Alice', 'Bob', 'Charlie', 'David', 'Eve', 'Frank', 'Grace', 'Henry', 'Isabella', 'Jack', 'Kate', 'Liam']\n",
    "num_students = min(int(input(\"How many students do you want to add? \")), 12)\n",
    "\n",
    "for i in range(num_students):\n",
    "    if not student_names:\n",
    "        print(\"Error: Not enough student names.\")\n",
    "        break\n",
    "    name = student_names.pop(0)\n",
    "    while True:\n",
    "        try:\n",
    "            grade = int(input(f\"Enter grade for {name}: \"))\n",
    "            break\n",
    "        except ValueError:\n",
    "            print(\"Invalid input. Please enter an integer.\")\n",
    "    students[name] = grade\n",
    "\n",
    "print(students)\n",
    "\n",
    "highest_grade = 0\n",
    "passed_students = []\n",
    "\n",
    "for name, grade in students.items():\n",
    "    if grade > highest_grade:\n",
    "        highest_grade = grade\n",
    "    if grade >= passing_grade:\n",
    "        passed_students.append(name)\n",
    "\n",
    "print(f\"The highest grade is {highest_grade}\")\n",
    "print(f\"The students who passed are: {passed_students}\")\n"
   ]
  }
 ],
 "metadata": {
  "kernelspec": {
   "display_name": "Python 3",
   "language": "python",
   "name": "python3"
  },
  "language_info": {
   "codemirror_mode": {
    "name": "ipython",
    "version": 3
   },
   "file_extension": ".py",
   "mimetype": "text/x-python",
   "name": "python",
   "nbconvert_exporter": "python",
   "pygments_lexer": "ipython3",
   "version": "3.11.5"
  },
  "orig_nbformat": 4
 },
 "nbformat": 4,
 "nbformat_minor": 2
}
