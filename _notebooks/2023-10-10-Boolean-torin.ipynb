{
 "cells": [
  {
   "cell_type": "markdown",
   "metadata": {},
   "source": [
    "### Hack 1"
   ]
  },
  {
   "cell_type": "code",
   "execution_count": 4,
   "metadata": {},
   "outputs": [
    {
     "name": "stdout",
     "output_type": "stream",
     "text": [
      "second is bigger\n"
     ]
    }
   ],
   "source": [
    "a = int(input(\"Enter a number: \"))\n",
    "b = int(input(\"Enter another number: \"))\n",
    "if a > b:\n",
    "    print(\"first is bigger\")\n",
    "elif a < b:\n",
    "    print(\"second is bigger\")\n",
    "else:\n",
    "    print(\"they are equal\")"
   ]
  },
  {
   "cell_type": "markdown",
   "metadata": {},
   "source": [
    "### Hack 2"
   ]
  },
  {
   "cell_type": "code",
   "execution_count": 11,
   "metadata": {},
   "outputs": [
    {
     "name": "stdout",
     "output_type": "stream",
     "text": [
      "Its a good day\n"
     ]
    }
   ],
   "source": [
    "sunny = input(\"Enter a string: \")\n",
    "weekend = input(\"Enter another string: \")\n",
    "\n",
    "if sunny and weekend == \"true\":\n",
    "    print(\"Its a good day\")\n",
    "elif sunny or weekend == \"true\":\n",
    "    print(\"Its not a good day\")"
   ]
  },
  {
   "cell_type": "markdown",
   "metadata": {},
   "source": [
    "### Hack Optional"
   ]
  },
  {
   "cell_type": "code",
   "execution_count": 15,
   "metadata": {},
   "outputs": [
    {
     "name": "stdout",
     "output_type": "stream",
     "text": [
      "Its a good day\n"
     ]
    }
   ],
   "source": [
    "a = input(\"Enter True/False: \")\n",
    "b = input(\"Enter True/False: \")\n",
    "\n",
    "if(a or b):\n",
    "    print(\"Its a good day\")\n",
    "else:\n",
    "    print(\"Its not a good day\")"
   ]
  },
  {
   "cell_type": "markdown",
   "metadata": {},
   "source": [
    "### Hack 3"
   ]
  },
  {
   "cell_type": "code",
   "execution_count": 24,
   "metadata": {},
   "outputs": [
    {
     "name": "stdout",
     "output_type": "stream",
     "text": [
      "a is false\n"
     ]
    }
   ],
   "source": [
    "a = False\n",
    "b = True\n",
    "\n",
    "\n",
    "if not a:\n",
    "    print(\"a is false\") ## not a is true, not means opposite\n",
    "elif a and b:\n",
    "    print(\"a and b are true\") ## and means both\n",
    "elif a or b:\n",
    "    print(\"a or b is true\") ## or means either"
   ]
  },
  {
   "cell_type": "markdown",
   "metadata": {},
   "source": [
    "### Hack 4"
   ]
  },
  {
   "cell_type": "code",
   "execution_count": 39,
   "metadata": {},
   "outputs": [
    {
     "name": "stdout",
     "output_type": "stream",
     "text": [
      "The lights are on\n"
     ]
    }
   ],
   "source": [
    "## light switches using xor\n",
    "light_downstairs = int(input(\"Enter 0 or 1: \"))\n",
    "light_upstairs = int(input(\"Enter 0 or 1: \"))\n",
    "\n",
    "if light_downstairs ^ light_upstairs:\n",
    "    print(\"The lights are on\")\n",
    "else:\n",
    "    print(\"The lights are off\")"
   ]
  },
  {
   "cell_type": "markdown",
   "metadata": {},
   "source": [
    "### Hack 5 Optional"
   ]
  },
  {
   "cell_type": "code",
   "execution_count": 44,
   "metadata": {},
   "outputs": [
    {
     "name": "stdout",
     "output_type": "stream",
     "text": [
      "It's true!\n"
     ]
    }
   ],
   "source": [
    "A = False\n",
    "B = False\n",
    "\n",
    "if not (A or B):\n",
    "    print(\"It's true!\")\n",
    "else:\n",
    "    print(\"It's false!\")\n"
   ]
  },
  {
   "cell_type": "markdown",
   "metadata": {},
   "source": [
    "### Homework Section"
   ]
  },
  {
   "cell_type": "code",
   "execution_count": 1,
   "metadata": {},
   "outputs": [
    {
     "name": "stdout",
     "output_type": "stream",
     "text": [
      "XNOR(0, 0) = 1\n",
      "XNOR(0, 1) = 0\n",
      "XNOR(1, 0) = 0\n",
      "XNOR(1, 1) = 1\n"
     ]
    }
   ],
   "source": [
    "def xnor_gate(a, b):\n",
    "    if (a and b) or (not a and not b):\n",
    "        return 1\n",
    "    else:\n",
    "        return 0\n",
    "\n",
    "# Test cases\n",
    "input_values = [(0, 0), (0, 1), (1, 0), (1, 1)]\n",
    "\n",
    "for a, b in input_values:\n",
    "    result = xnor_gate(a, b)\n",
    "    print(f\"XNOR({a}, {b}) = {result}\")\n"
   ]
  },
  {
   "cell_type": "code",
   "execution_count": 48,
   "metadata": {},
   "outputs": [
    {
     "name": "stdout",
     "output_type": "stream",
     "text": [
      "Logic Gate Simulator\n",
      "\n",
      "Choose a logic gate to simulate:\n",
      "1. AND Gate\n",
      "2. OR Gate\n",
      "3. XOR Gate\n",
      "AND Gate result: 0\n"
     ]
    }
   ],
   "source": [
    "# Define logic gates functions\n",
    "def and_gate(a, b):\n",
    "    return a and b\n",
    "\n",
    "def or_gate(a, b):\n",
    "    return a or b\n",
    "\n",
    "def xor_gate(a, b):\n",
    "    return (a and not b) or (not a and b)\n",
    "\n",
    "# Interactive program\n",
    "print(\"Logic Gate Simulator\")\n",
    "while True:\n",
    "    print(\"\\nChoose a logic gate to simulate:\")\n",
    "    print(\"1. AND Gate\")\n",
    "    print(\"2. OR Gate\")\n",
    "    print(\"3. XOR Gate\")\n",
    "\n",
    "    choice = input(\"Enter your choice (1/2/3): \")\n",
    "\n",
    "    if choice == '1':\n",
    "        a = bool(int(input(\"Enter input A (0 or 1): \")))\n",
    "        b = bool(int(input(\"Enter input B (0 or 1): \")))\n",
    "        result = and_gate(a, b)\n",
    "        print(f\"AND Gate result: {int(result)}\")\n",
    "        break\n",
    "\n",
    "    elif choice == '2':\n",
    "        a = bool(int(input(\"Enter input A (0 or 1): \")))\n",
    "        b = bool(int(input(\"Enter input B (0 or 1): \")))\n",
    "        result = or_gate(a, b)\n",
    "        print(f\"OR Gate result: {int(result)}\")\n",
    "        break\n",
    "\n",
    "    elif choice == '3':\n",
    "        a = bool(int(input(\"Enter input A (0 or 1): \")))\n",
    "        b = bool(int(input(\"Enter input B (0 or 1): \")))\n",
    "        result = xor_gate(a, b)\n",
    "        print(f\"XOR Gate result: {int(result)}\")\n",
    "        break\n",
    "\n",
    "    else:\n",
    "        print(\"Invalid choice. Please select 1, 2, 3, or 4.\")\n"
   ]
  },
  {
   "cell_type": "code",
   "execution_count": 51,
   "metadata": {},
   "outputs": [
    {
     "name": "stdout",
     "output_type": "stream",
     "text": [
      "Alice's Homework Status: Complete\n",
      "James's Homework Status: Incomplete\n",
      "Charlie's Homework Status: Incomplete\n",
      "David's Homework Status: Incomplete\n"
     ]
    }
   ],
   "source": [
    "def mark_homework(completed, on_time):\n",
    "    problem_incomplete = not completed\n",
    "    not_on_time = not on_time\n",
    "    incomplete = problem_incomplete or not_on_time\n",
    "    return \"Incomplete\" if incomplete else \"Complete\"\n",
    "\n",
    "# Initialize a list of students with their completion and submission status\n",
    "students = [\n",
    "    {\"name\": \"Alice\", \"completed\": True, \"on_time\": True},\n",
    "    {\"name\": \"James\", \"completed\": False, \"on_time\": True},\n",
    "    {\"name\": \"Charlie\", \"completed\": True, \"on_time\": False},\n",
    "    {\"name\": \"David\", \"completed\": False, \"on_time\": False},\n",
    "]\n",
    "\n",
    "# Create a dictionary to store the grades for each student\n",
    "grades = {}\n",
    "\n",
    "# Grade each student's homework\n",
    "for student in students:\n",
    "    name = student[\"name\"]\n",
    "    completed = student[\"completed\"]\n",
    "    on_time = student[\"on_time\"]\n",
    "    result = mark_homework(completed, on_time)\n",
    "    grades[name] = result\n",
    "\n",
    "# Print the grades\n",
    "for name, grade in grades.items():\n",
    "    print(f\"{name}'s Homework Status: {grade}\")\n"
   ]
  }
 ],
 "metadata": {
  "kernelspec": {
   "display_name": "Python 3",
   "language": "python",
   "name": "python3"
  },
  "language_info": {
   "codemirror_mode": {
    "name": "ipython",
    "version": 3
   },
   "file_extension": ".py",
   "mimetype": "text/x-python",
   "name": "python",
   "nbconvert_exporter": "python",
   "pygments_lexer": "ipython3",
   "version": "3.11.5"
  },
  "orig_nbformat": 4
 },
 "nbformat": 4,
 "nbformat_minor": 2
}
