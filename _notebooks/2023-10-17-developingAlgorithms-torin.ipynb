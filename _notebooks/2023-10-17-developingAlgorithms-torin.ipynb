{
 "cells": [
  {
   "cell_type": "markdown",
   "metadata": {},
   "source": [
    "### Hack 1"
   ]
  },
  {
   "cell_type": "code",
   "execution_count": null,
   "metadata": {},
   "outputs": [],
   "source": [
    "# Psuedo Code 2\n",
    "DISPLAY (\"What is the temperature outside in F?\")\n",
    "temp <- INPUT()\n",
    "IF (temp >= 90)\n",
    "{\n",
    "    DISPLAY(\"its too hot outide\")\n",
    "}\n",
    "ELIF (temp >= 65)\n",
    "{\n",
    "        DISPLAY (\"sure I will play outside\")\n",
    "}\n",
    "ELSE (temp < 65)\n",
    "{\n",
    "        DISPLAY (\"its too cold outside\")\n",
    "}\n"
   ]
  },
  {
   "cell_type": "markdown",
   "metadata": {},
   "source": [
    "## Hack 2\n",
    "\n",
    "if canmove() == true\n",
    "    moveforward\n",
    "else\n",
    "    turnright()\n",
    "\n",
    "\n"
   ]
  },
  {
   "cell_type": "code",
   "execution_count": null,
   "metadata": {},
   "outputs": [],
   "source": [
    "def can_move():\n",
    "    if robot.front_is_clear():\n",
    "        return True\n",
    "    elif robot.right_is_clear():\n",
    "        robot.turn_right()\n",
    "        return True\n",
    "    elif robot.left_is_clear():\n",
    "        robot.turn_left()\n",
    "        return True\n",
    "    else:\n",
    "        return False\n",
    "\n",
    "def navigate():\n",
    "    while not robot.at_goal():\n",
    "        if can_move():\n",
    "            robot.move()\n",
    "        else:\n",
    "            robot.turn_around()\n",
    "            if not can_move():\n",
    "                break\n",
    "\n",
    "navigate()\n"
   ]
  },
  {
   "cell_type": "markdown",
   "metadata": {},
   "source": [
    "### Hack 3"
   ]
  },
  {
   "cell_type": "code",
   "execution_count": null,
   "metadata": {},
   "outputs": [],
   "source": [
    "while not at_goal():\n",
    "    if CAN_MOVE():\n",
    "        MOVE_FORWARD()\n",
    "    else:\n",
    "        ROTATE_LEFT()\n"
   ]
  },
  {
   "cell_type": "markdown",
   "metadata": {},
   "source": [
    "### Homework"
   ]
  },
  {
   "cell_type": "code",
   "execution_count": 73,
   "metadata": {},
   "outputs": [
    {
     "name": "stdout",
     "output_type": "stream",
     "text": [
      "Numner to beat is 5\n",
      "-------------------\n",
      "Your temp score is 1\n",
      "You have 3 attempts left\n",
      "Your temp score is 7\n",
      "You have the new high score!\n"
     ]
    }
   ],
   "source": [
    "import random\n",
    "\n",
    "attempts = 0\n",
    "score = 5\n",
    "playertempscore = 0\n",
    "\n",
    "randNum = 0\n",
    "\n",
    "print(\"Numner to beat is\", score)\n",
    "print(\"-------------------\")\n",
    "\n",
    "while attempts < 4:\n",
    "    randNum = random.randint(1, 10)\n",
    "    playertempscore = randNum\n",
    "    print(\"Your temp score is\", playertempscore)\n",
    "    if playertempscore > score:\n",
    "        score = playertempscore\n",
    "        print(\"You have the new high score!\")\n",
    "        break\n",
    "    else:\n",
    "        attempts = attempts + 1\n",
    "        print(\"You have\", 4 - attempts, \"attempts left\")\n",
    "    "
   ]
  }
 ],
 "metadata": {
  "kernelspec": {
   "display_name": "Python 3",
   "language": "python",
   "name": "python3"
  },
  "language_info": {
   "codemirror_mode": {
    "name": "ipython",
    "version": 3
   },
   "file_extension": ".py",
   "mimetype": "text/x-python",
   "name": "python",
   "nbconvert_exporter": "python",
   "pygments_lexer": "ipython3",
   "version": "3.11.5"
  },
  "orig_nbformat": 4
 },
 "nbformat": 4,
 "nbformat_minor": 2
}
