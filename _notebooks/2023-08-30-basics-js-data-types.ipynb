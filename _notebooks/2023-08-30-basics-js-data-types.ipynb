{
 "cells": [
  {
   "cell_type": "markdown",
   "metadata": {},
   "source": [
    "---\n",
    "toc: true\n",
    "comments: true\n",
    "layout: post\n",
    "title: Javascript Data Types/Lists\n",
    "hide: True\n",
    "description: A Tech Talk on javascript data types and how to use with lists\n",
    "courses: {'compsci': {'week': 6}}\n",
    "type: hacks\n",
    "\n",
    "---"
   ]
  },
  {
   "cell_type": "markdown",
   "metadata": {},
   "source": [
    "# string datatype\n",
    "- We discussed that strings store text\n",
    "- It is useful to know a few functions that can be used on string manipulation (see example below)\n",
    "- We can see the type of data using `typeof` operator"
   ]
  },
  {
   "cell_type": "code",
   "execution_count": 6,
   "metadata": {
    "vscode": {
     "languageId": "javascript"
    }
   },
   "outputs": [
    {
     "data": {
      "application/javascript": "\n// assign variable\nvar hello = \"Hello World\";\nvar first_name = \"Nandan\";\n\n\nconsole.log(\"variable: hello\")\nconsole.log(hello)\nconsole.log(first_name)\n\n// seeing the type of this data\nconsole.log(\"variable: hello check typeof\")\nconsole.log(typeof hello)\n\n// add strings together\nconsole.log(\"string concatenation: hello + Rohan!\")\nconsole.log(hello + \" Rohan!\")\n",
      "text/plain": [
       "<IPython.core.display.Javascript object>"
      ]
     },
     "metadata": {},
     "output_type": "display_data"
    }
   ],
   "source": [
    "%%js\n",
    "\n",
    "// assign variable\n",
    "var hello = \"Hello World\";\n",
    "var first_name = \"Nandan\";\n",
    "\n",
    "\n",
    "console.log(\"variable: hello\")\n",
    "console.log(hello)\n",
    "console.log(first_name)\n",
    "\n",
    "// seeing the type of this data\n",
    "console.log(\"variable: hello check typeof\")\n",
    "console.log(typeof hello)\n",
    "\n",
    "// add strings together\n",
    "console.log(\"string concatenation: hello + Rohan!\")\n",
    "console.log(hello + \" Rohan!\")"
   ]
  },
  {
   "cell_type": "markdown",
   "metadata": {},
   "source": [
    "## .substring()"
   ]
  },
  {
   "cell_type": "code",
   "execution_count": 7,
   "metadata": {
    "vscode": {
     "languageId": "javascript"
    }
   },
   "outputs": [
    {
     "data": {
      "application/javascript": "var hello = \"Hello World\";\n\n// getting a certain component of this text\n// (here the _ is a standin for the space character)\n// H  e  l  l  o  _  W  o  r  l  d\n// 0  1  2  3  4  5  6  7  8  9  10\n// if we want the hello component, we want characters 0-4, so we use the following function\n// (note how we use 0 and 5 as arguments, the last character is NOT INCLUSIVE)\nconsole.log(\"substring: hello 0, 5\")\nconsole.log(hello.substring(5, 11))\n",
      "text/plain": [
       "<IPython.core.display.Javascript object>"
      ]
     },
     "metadata": {},
     "output_type": "display_data"
    }
   ],
   "source": [
    "%%js\n",
    "var hello = \"Hello World\";\n",
    "\n",
    "// getting a certain component of this text\n",
    "// (here the _ is a standin for the space character)\n",
    "// H  e  l  l  o  _  W  o  r  l  d\n",
    "// 0  1  2  3  4  5  6  7  8  9  10\n",
    "// if we want the hello component, we want characters 0-4, so we use the following function\n",
    "// (note how we use 0 and 5 as arguments, the last character is NOT INCLUSIVE)\n",
    "console.log(\"substring: hello 0, 5\")\n",
    "console.log(hello.substring(5, 11))"
   ]
  },
  {
   "cell_type": "markdown",
   "metadata": {},
   "source": [
    "## .toUpperCase() and .toLowerCase()"
   ]
  },
  {
   "cell_type": "code",
   "execution_count": 8,
   "metadata": {
    "vscode": {
     "languageId": "javascript"
    }
   },
   "outputs": [
    {
     "data": {
      "application/javascript": "var hello = \"Hello World\";\n\n// useful functions to make string lowercase or uppercase\nconsole.log(\"string convert to upper case: hello toUpperCase\")\nconsole.log(hello.toUpperCase())\nconsole.log(\"string convert to lower case: hello toLowerCase\")\nconsole.log(hello.toLowerCase())\n",
      "text/plain": [
       "<IPython.core.display.Javascript object>"
      ]
     },
     "metadata": {},
     "output_type": "display_data"
    }
   ],
   "source": [
    "%%js\n",
    "var hello = \"Hello World\";\n",
    "\n",
    "// useful functions to make string lowercase or uppercase\n",
    "console.log(\"string convert to upper case: hello toUpperCase\")\n",
    "console.log(hello.toUpperCase())\n",
    "console.log(\"string convert to lower case: hello toLowerCase\")\n",
    "console.log(hello.toLowerCase())"
   ]
  },
  {
   "cell_type": "markdown",
   "metadata": {},
   "source": [
    "## .includes()"
   ]
  },
  {
   "cell_type": "code",
   "execution_count": 9,
   "metadata": {
    "vscode": {
     "languageId": "javascript"
    }
   },
   "outputs": [
    {
     "data": {
      "application/javascript": "var hello = \"Rohan Hello World\";\n\n// useful function to check if one string is contained in another\nconsole.log(\"string includes: hello includes Rohan\")\nconsole.log(hello.includes(\"Rohan\"))\nconsole.log(\"string includes: hello includes Hello\")\nconsole.log(hello.includes(\"Hello\"))\n",
      "text/plain": [
       "<IPython.core.display.Javascript object>"
      ]
     },
     "metadata": {},
     "output_type": "display_data"
    }
   ],
   "source": [
    "%%js\n",
    "var hello = \"Rohan Hello World\";\n",
    "\n",
    "// useful function to check if one string is contained in another\n",
    "console.log(\"string includes: hello includes Rohan\")\n",
    "console.log(hello.includes(\"Rohan\"))\n",
    "console.log(\"string includes: hello includes Hello\")\n",
    "console.log(hello.includes(\"Hello\"))"
   ]
  },
  {
   "cell_type": "markdown",
   "metadata": {},
   "source": [
    "# number datatype\n",
    "- we discussed that numbers store numbers\n",
    "- here are some useful ideas in javascript to deal with numbers"
   ]
  },
  {
   "cell_type": "code",
   "execution_count": 10,
   "metadata": {
    "vscode": {
     "languageId": "javascript"
    }
   },
   "outputs": [
    {
     "data": {
      "application/javascript": "console.log(\"Numbers info\")\n\n// assign numbers to varialbes\nconsole.log(\"variable: num1\")\nvar num1 = 10\nconsole.log(num1)\nconsole.log(\"variable: num2\")\nvar num2 = 5\nconsole.log(num2)\n\n\n// simple operations with numbers\nconsole.log(\"Operations\")\nconsole.log(\"subtract: num1 - num2\")\nconsole.log(num1 - num2)\nconsole.log(\"add: num1 + num2\")\nconsole.log(num1 + num2)\nconsole.log(\"divide: num1 / num2\")\nconsole.log(num1 / num2)\nconsole.log(\"multiply: num1 * num2\")\nconsole.log(num1 * num2)\nconsole.log(\"remainder (modulo): num1 % num2\")\nconsole.log(num1 % num2)\n",
      "text/plain": [
       "<IPython.core.display.Javascript object>"
      ]
     },
     "metadata": {},
     "output_type": "display_data"
    }
   ],
   "source": [
    "%%js\n",
    "console.log(\"Numbers info\")\n",
    "\n",
    "// assign numbers to varialbes\n",
    "console.log(\"variable: num1\")\n",
    "var num1 = 10\n",
    "console.log(num1)\n",
    "console.log(\"variable: num2\")\n",
    "var num2 = 5\n",
    "console.log(num2)\n",
    "\n",
    "\n",
    "// simple operations with numbers\n",
    "console.log(\"Operations\")\n",
    "console.log(\"subtract: num1 - num2\")\n",
    "console.log(num1 - num2)\n",
    "console.log(\"add: num1 + num2\")\n",
    "console.log(num1 + num2)\n",
    "console.log(\"divide: num1 / num2\")\n",
    "console.log(num1 / num2)\n",
    "console.log(\"multiply: num1 * num2\")\n",
    "console.log(num1 * num2)\n",
    "console.log(\"remainder (modulo): num1 % num2\")\n",
    "console.log(num1 % num2)"
   ]
  },
  {
   "cell_type": "markdown",
   "metadata": {},
   "source": [
    "# number formatting"
   ]
  },
  {
   "cell_type": "code",
   "execution_count": 11,
   "metadata": {
    "vscode": {
     "languageId": "javascript"
    }
   },
   "outputs": [
    {
     "data": {
      "application/javascript": "console.log(\"variable: num1\")\nvar num1 = 9\nconsole.log(num1)\nconsole.log(\"variable: num2\")\nvar num2 = 6\nconsole.log(num2)\n\n// converting numbers to text\nconsole.log(\"number convert string: num1\")\nconsole.log(num1.toString())\n\n// rounding a number\nconsole.log(\"round(num1 / num2)\")\nconsole.log(Math.round(num1 / num2))\n\n// rounding a number to decimal palces\nconsole.log(\"set decimals to 2 places (num1 / num2)\")\nconsole.log((num1 / num2).toFixed(10))\n",
      "text/plain": [
       "<IPython.core.display.Javascript object>"
      ]
     },
     "metadata": {},
     "output_type": "display_data"
    }
   ],
   "source": [
    "%%js\n",
    "console.log(\"variable: num1\")\n",
    "var num1 = 9\n",
    "console.log(num1)\n",
    "console.log(\"variable: num2\")\n",
    "var num2 = 6\n",
    "console.log(num2)\n",
    "\n",
    "// converting numbers to text\n",
    "console.log(\"number convert string: num1\")\n",
    "console.log(num1.toString())\n",
    "\n",
    "// rounding a number\n",
    "console.log(\"round(num1 / num2)\")\n",
    "console.log(Math.round(num1 / num2))\n",
    "\n",
    "// rounding a number to decimal palces\n",
    "console.log(\"set decimals to 2 places (num1 / num2)\")\n",
    "console.log((num1 / num2).toFixed(10))"
   ]
  },
  {
   "cell_type": "markdown",
   "metadata": {},
   "source": [
    "# Array datatype\n",
    "- an array is just a list of other datatypes\n",
    "- put all the items in square brackets\n",
    "- some useful methods below"
   ]
  },
  {
   "cell_type": "code",
   "execution_count": 12,
   "metadata": {
    "vscode": {
     "languageId": "javascript"
    }
   },
   "outputs": [
    {
     "data": {
      "application/javascript": "console.log(\"Array: assigning a list of strings\")\nvar str1 = \"1st string\"\nvar arr_data = [str1, \"2nd string\", \"3rd string\"]\n// seeing what is in the array\nconsole.log(arr_data)\n\n// getting one thing from an array\n// \"A string\" \"Other Data\" \"more data\"\n//    0           1            2\nconsole.log(\"Array: referencing a cell #1\")\nconsole.log([arr_data[1] ])  // zero based counting: 1 is 2nd cell\n",
      "text/plain": [
       "<IPython.core.display.Javascript object>"
      ]
     },
     "metadata": {},
     "output_type": "display_data"
    }
   ],
   "source": [
    "%%js\n",
    "console.log(\"Array: assigning a list of strings\")\n",
    "var str1 = \"1st string\"\n",
    "var arr_data = [str1, \"2nd string\", \"3rd string\"]\n",
    "// seeing what is in the array\n",
    "console.log(arr_data)\n",
    "\n",
    "// getting one thing from an array\n",
    "// \"A string\" \"Other Data\" \"more data\"\n",
    "//    0           1            2\n",
    "console.log(\"Array: referencing a cell #1\")\n",
    "console.log([arr_data[1] ])  // zero based counting: 1 is 2nd cell\n"
   ]
  },
  {
   "cell_type": "markdown",
   "metadata": {},
   "source": [
    "# array manipulation"
   ]
  },
  {
   "cell_type": "code",
   "execution_count": 13,
   "metadata": {
    "vscode": {
     "languageId": "javascript"
    }
   },
   "outputs": [
    {
     "data": {
      "application/javascript": "console.log(\"Array: assigning a list of strings\")\nvar str1 = \"1st string\"\nvar arr_data = [str1, \"2nd string\", \"3rd string\"]\n// seeing what is in the array\nconsole.log(arr_data)\n\n// adding something new to the array\nconsole.log(\"Array: adding to list\")\narr_data.push(\"4th string\")\nconsole.log(arr_data)\n\n// removing the first element of array\nconsole.log(\"Array: removing from front of list\")\narr_data.shift()\nconsole.log(arr_data)\n\narr_data[1] = \"Nandan\" \nconsole.log(arr_data)\n\n// removing the last element of array\nconsole.log(\"Array: removing from end of list\")\narr_data.pop()\nconsole.log(arr_data)\n",
      "text/plain": [
       "<IPython.core.display.Javascript object>"
      ]
     },
     "metadata": {},
     "output_type": "display_data"
    }
   ],
   "source": [
    "%%js\n",
    "console.log(\"Array: assigning a list of strings\")\n",
    "var str1 = \"1st string\"\n",
    "var arr_data = [str1, \"2nd string\", \"3rd string\"]\n",
    "// seeing what is in the array\n",
    "console.log(arr_data)\n",
    "\n",
    "// adding something new to the array\n",
    "console.log(\"Array: adding to list\")\n",
    "arr_data.push(\"4th string\")\n",
    "console.log(arr_data)\n",
    "\n",
    "// removing the first element of array\n",
    "console.log(\"Array: removing from front of list\")\n",
    "arr_data.shift()\n",
    "console.log(arr_data)\n",
    "\n",
    "arr_data[1] = \"Nandan\" \n",
    "console.log(arr_data)\n",
    "\n",
    "// removing the last element of array\n",
    "console.log(\"Array: removing from end of list\")\n",
    "arr_data.pop()\n",
    "console.log(arr_data)"
   ]
  },
  {
   "cell_type": "markdown",
   "metadata": {},
   "source": [
    "# Object datatype\n",
    "\n",
    "- store records as key-value pairs\n",
    "- are defined by enclosing data in curly braces `{}`\n",
    "- allow access and modification using dot `.` or square bracket `[]` notation"
   ]
  },
  {
   "cell_type": "code",
   "execution_count": 14,
   "metadata": {
    "vscode": {
     "languageId": "javascript"
    }
   },
   "outputs": [
    {
     "data": {
      "application/javascript": "console.log(\"Object: assigning key-value objects\")\nvar obj = {\n    name: \"Nandan\",\n    age: 16\n};\n\n// The following is stored in the object called \"obj\"\n// {\n//     name: \"Safin\",\n//     age: 13\n// }\n//\n// The key \"name\" is associated with the string value \"Safin\"\n// The key \"age\" is associated with the number value 13\n// Notice that keys are of the type \"string\"\n\n// print obj to the console\nconsole.log(obj);\n// -> { name: 'Safin', age: 13 }\n// Notice that single quotes ' and double quotes \" can be used interchangeably\n",
      "text/plain": [
       "<IPython.core.display.Javascript object>"
      ]
     },
     "metadata": {},
     "output_type": "display_data"
    }
   ],
   "source": [
    "%%js\n",
    "console.log(\"Object: assigning key-value objects\")\n",
    "var obj = {\n",
    "    name: \"Nandan\",\n",
    "    age: 16\n",
    "};\n",
    "\n",
    "// The following is stored in the object called \"obj\"\n",
    "// {\n",
    "//     name: \"Safin\",\n",
    "//     age: 13\n",
    "// }\n",
    "//\n",
    "// The key \"name\" is associated with the string value \"Safin\"\n",
    "// The key \"age\" is associated with the number value 13\n",
    "// Notice that keys are of the type \"string\"\n",
    "\n",
    "// print obj to the console\n",
    "console.log(obj);\n",
    "// -> { name: 'Safin', age: 13 }\n",
    "// Notice that single quotes ' and double quotes \" can be used interchangeably"
   ]
  },
  {
   "cell_type": "markdown",
   "metadata": {},
   "source": [
    "# object access"
   ]
  },
  {
   "cell_type": "code",
   "execution_count": 15,
   "metadata": {
    "vscode": {
     "languageId": "javascript"
    }
   },
   "outputs": [
    {
     "data": {
      "application/javascript": "console.log(\"Object: assigning key-value objects\")\nvar obj = {\n    name: \"Nandan\",\n    age: 16,\n    favFood: \"Pizza\"\n};\n\n// The following is stored in the object called \"obj\"\n// {\n//     name: \"Safin\",\n//     age: 13\n// }\n//\n// The key \"name\" is associated with the string value \"Safin\"\n// The key \"age\" is associated with the number value 13\n// Notice that keys are of the type \"string\"\n\n// print obj to the console\nconsole.log(obj);\n// -> { name: 'Safin', age: 13 }\n// Notice that single quotes ' and double quotes \" can be used interchangeably\n\n// To access certain values within an object, also known as an object's fields,\n// you can use the name of the object suffixed with a dot and the name of the field\n// or using the square bracket notation shown below\nconsole.log(\"Object: using key name to access the name value (key notation)\")\nconsole.log(obj[\"name\"]);\nconsole.log(\"Object: using key name to access the name value (dot notation)\")\nconsole.log(obj.name);\n// -> Safin\n\n// Fields of an object can be manipulated similar to variables\nconsole.log(\"Object: mutating the key name from Safin to John\")\nobj.name = \"John\"\nconsole.log(obj);\nconsole.log(obj.name);\n// -> John\n\n// A key-value pair can be added to the object\nconsole.log(\"Object: mutating the key name from Safin to John\")\nobj[\"ghid\"] = \"Th35py27\"\nconsole.log(obj);\n// Observe new key\n",
      "text/plain": [
       "<IPython.core.display.Javascript object>"
      ]
     },
     "metadata": {},
     "output_type": "display_data"
    }
   ],
   "source": [
    "%%js\n",
    "console.log(\"Object: assigning key-value objects\")\n",
    "var obj = {\n",
    "    name: \"Nandan\",\n",
    "    age: 16,\n",
    "    favFood: \"Pizza\"\n",
    "};\n",
    "\n",
    "// The following is stored in the object called \"obj\"\n",
    "// {\n",
    "//     name: \"Safin\",\n",
    "//     age: 13\n",
    "// }\n",
    "//\n",
    "// The key \"name\" is associated with the string value \"Safin\"\n",
    "// The key \"age\" is associated with the number value 13\n",
    "// Notice that keys are of the type \"string\"\n",
    "\n",
    "// print obj to the console\n",
    "console.log(obj);\n",
    "// -> { name: 'Safin', age: 13 }\n",
    "// Notice that single quotes ' and double quotes \" can be used interchangeably\n",
    "\n",
    "// To access certain values within an object, also known as an object's fields,\n",
    "// you can use the name of the object suffixed with a dot and the name of the field\n",
    "// or using the square bracket notation shown below\n",
    "console.log(\"Object: using key name to access the name value (key notation)\")\n",
    "console.log(obj[\"name\"]);\n",
    "console.log(\"Object: using key name to access the name value (dot notation)\")\n",
    "console.log(obj.name);\n",
    "// -> Safin\n",
    "\n",
    "// Fields of an object can be manipulated similar to variables\n",
    "console.log(\"Object: mutating the key name from Safin to John\")\n",
    "obj.name = \"John\"\n",
    "console.log(obj);\n",
    "console.log(obj.name);\n",
    "// -> John\n",
    "\n",
    "// A key-value pair can be added to the object\n",
    "console.log(\"Object: mutating the key name from Safin to John\")\n",
    "obj[\"ghid\"] = \"Th35py27\"\n",
    "console.log(obj);\n",
    "// Observe new key"
   ]
  },
  {
   "cell_type": "code",
   "execution_count": 5,
   "metadata": {
    "vscode": {
     "languageId": "javascript"
    }
   },
   "outputs": [
    {
     "data": {
      "application/javascript": "\nconsole.log(\"Object: assigning key-value objects\")\nvar things = {\n    name: [\"Nandan\", \"Arnav\",\"Torin\",\"Remy\"],\n    age: 16,\n    class: [\"CSP\",\"Statistics\"],\n    interests: \"chess\",\n    fav_subject: \"math\",\n    fav_food: \"pizza\",\n    math: 5+2\n\n\n};\n\nthings.fav_food = \"pasta\"\n\nconsole.log(things)\nconsole.log(things.fav_food)\nconsole.log(things.math)\nconsole.log(things.name[1])\n\nconsole.log(typeof things.name)\nconsole.log(typeof things.math)\nconsole.log(typeof things.fav_food)\n",
      "text/plain": [
       "<IPython.core.display.Javascript object>"
      ]
     },
     "metadata": {},
     "output_type": "display_data"
    }
   ],
   "source": [
    "%%js\n",
    "\n",
    "console.log(\"Object: assigning key-value objects\")\n",
    "var things = {\n",
    "    name: [\"Nandan\", \"Arnav\",\"Torin\",\"Remy\"],\n",
    "    age: 16,\n",
    "    class: [\"CSP\",\"Statistics\"],\n",
    "    interests: \"chess\",\n",
    "    fav_subject: \"math\",\n",
    "    fav_food: \"pizza\",\n",
    "    math: 5+2\n",
    "\n",
    "\n",
    "};\n",
    "\n",
    "things.fav_food = \"pasta\"\n",
    "\n",
    "console.log(things)\n",
    "console.log(things.fav_food)\n",
    "console.log(things.math)\n",
    "console.log(things.name[1])\n",
    "\n",
    "console.log(typeof things.name)\n",
    "console.log(typeof things.math)\n",
    "console.log(typeof things.fav_food)"
   ]
  }
 ],
 "metadata": {
  "kernelspec": {
   "display_name": "Python 3 (ipykernel)",
   "language": "python",
   "name": "python3"
  },
  "language_info": {
   "codemirror_mode": {
    "name": "ipython",
    "version": 3
   },
   "file_extension": ".py",
   "mimetype": "text/x-python",
   "name": "python",
   "nbconvert_exporter": "python",
   "pygments_lexer": "ipython3",
   "version": "3.10.12"
  }
 },
 "nbformat": 4,
 "nbformat_minor": 4
}
