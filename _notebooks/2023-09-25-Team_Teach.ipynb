{
 "cells": [
  {
   "cell_type": "markdown",
   "metadata": {},
   "source": [
    "---\n",
    "toc: true\n",
    "comments: True\n",
    "layout: post\n",
    "title: Data Abstraction\n",
    "description: Team Teaching \n",
    "type: plans\n",
    "courses: {'compsci': {'week': 7}}\n",
    "---"
   ]
  },
  {
   "cell_type": "markdown",
   "metadata": {},
   "source": [
    "## 3.1 Variables And Assignments\n",
    "\n",
    "Variables are considered abstraction as they assign a value to another value. In other words, they basically describe values to each other. Variables are important as it can be used in many different uses such as they can store useful information, especially if you have a long lines of code. Variables are mostly used to store data such as numbers (we are going to go over integers today), booleans, lists, strings and dictionaries.  \n",
    "\n",
    "> Note:\n",
    " A variable needs to have a proper name, cannot have spaces inside of them and needs to be reasonable.\n",
    "\n",
    " For example:\n",
    "\n",
    " * highScore is a better and shorter way of saying highestScoreInTheGame\n",
    "\n",
    " * firstName is more specific than n\n",
    "\n",
    " * instead of is raining (because it has spaced) israining or is_it_raining is a better way of looking at the variable\n",
    "\n",
    " * phonenumber is better than saying 555-number (it just looks neater to look at)"
   ]
  },
  {
   "cell_type": "code",
   "execution_count": 18,
   "metadata": {},
   "outputs": [
    {
     "name": "stdout",
     "output_type": "stream",
     "text": [
      "Nandan\n",
      "33\n"
     ]
    }
   ],
   "source": [
    "firstName = \"Nandan\" # this is a string\n",
    "print(firstName)\n",
    "\n",
    "highScore = 33 # this is an integer\n",
    "print(highScore)"
   ]
  },
  {
   "cell_type": "markdown",
   "metadata": {},
   "source": [
    "<p style=\"color:DodgerBlue;\">Popcorn Hack#1 - Make your own variable either with a number or a string and print it out</p>"
   ]
  },
  {
   "cell_type": "markdown",
   "metadata": {},
   "source": [
    "<h3>Data Types:</h3>\n",
    "    \n",
    "<p>Integer: A whole number</p>\n",
    "<p>Boolean: True or False based on operators</p>\n",
    "<p>String: Anything that contains \"{text is stored in here}\"</p>\n"
   ]
  },
  {
   "cell_type": "code",
   "execution_count": 20,
   "metadata": {},
   "outputs": [
    {
     "name": "stdout",
     "output_type": "stream",
     "text": [
      "True\n",
      "False\n",
      "Student failed\n",
      "16\n"
     ]
    }
   ],
   "source": [
    "### BOOLEAN EXAMPLES\n",
    "age = 16  # Here is the number example\n",
    "print(bool(age))  \n",
    "\n",
    "print(age<8)\n",
    "\n",
    "PASS_POINTS = 75\n",
    "FAIL_POINTS = 50\n",
    "\n",
    "if PASS_POINTS < FAIL_POINTS:\n",
    "    passed = True\n",
    "else:\n",
    "    passed = False\n",
    "\n",
    "if passed:\n",
    "    print(\"Student has passed\")\n",
    "else:\n",
    "    print(\"Student failed\")\n",
    "\n",
    "\n",
    "## STRING EXAMPLE\n",
    "\n",
    "age = \"16\"\n",
    "print(age)\n",
    "\n"
   ]
  },
  {
   "cell_type": "markdown",
   "metadata": {},
   "source": [
    "<p style=\"color:DodgerBlue;\">Popcorn Hack #2 - Use the variable types and print all the different types of them, boolean, string, and integer.</p>"
   ]
  },
  {
   "cell_type": "markdown",
   "metadata": {},
   "source": [
    "## 3.1 Variables And Assignments\n",
    "\n",
    "\n",
    "Assignments and variables are fundamental ideas in computer programming. They give programmers the ability to manage, store, and alter data. In the realm of programming and computer science, knowing how to declare and assign values to variables is an essential ability.\n"
   ]
  },
  {
   "cell_type": "code",
   "execution_count": 21,
   "metadata": {},
   "outputs": [
    {
     "name": "stdout",
     "output_type": "stream",
     "text": [
      "Arnav\n",
      "Nandan\n"
     ]
    }
   ],
   "source": [
    "currentName = \"Arnav\"\n",
    "print(currentName)\n",
    "\n",
    "currentName = \"Nandan\" # Because this variable is declared second, even though it was already declared, it will print the most recent declaration\n",
    "print(currentName)\n",
    "\n",
    "bigNumber = 10000\n",
    "isWednesday = True\n",
    "firstName = \"Arnav Nadar\"\n",
    "\n",
    "print(str(bigNumber) + \"  \"  + str(isWednesday) + \"  \" + str(firstName))"
   ]
  },
  {
   "cell_type": "code",
   "execution_count": 24,
   "metadata": {},
   "outputs": [
    {
     "name": "stdout",
     "output_type": "stream",
     "text": [
      "30\n",
      "30\n",
      "25\n"
     ]
    }
   ],
   "source": [
    "num1 = 25\n",
    "num2 = 15\n",
    "num3 = 30\n",
    "num2 = num3 \n",
    "num3 = num1\n",
    "num1 = num2\n",
    "print(num1)\n",
    "print(num2)\n",
    "print(num3)"
   ]
  },
  {
   "cell_type": "markdown",
   "metadata": {},
   "source": [
    "<p style=\"color:DodgerBlue;\">Popcorn Hack #3 - Use the variable types and the variable changing and create a small program that incorporates the changing of variables</p>"
   ]
  },
  {
   "cell_type": "markdown",
   "metadata": {},
   "source": [
    "## 3.2 Data Abstraction - Lists & Strings\n",
    "<p>\n",
    "Lists and strings are a simple method of data abstraction in which a number of values (list elements or characters) are stored in a single variable. Each value in a list or string can be referred to with its natural-number index.\n",
    "</p>\n",
    "<p>\n",
    "A string is simply a sequence of characters; letters, numbers, special characters, etc.\n",
    "</p>\n",
    "<p>\n",
    "A list is an ordered sequence of variables (elements), each of which contains some data value. The elements need not be all the same data type. \n",
    "\n",
    "</p>"
   ]
  },
  {
   "cell_type": "code",
   "execution_count": 4,
   "metadata": {},
   "outputs": [
    {
     "name": "stdout",
     "output_type": "stream",
     "text": [
      "y\n",
      "Ramskoeldia consimilis\n",
      "True\n",
      "987654\n"
     ]
    }
   ],
   "source": [
    "#Each element in a list/string is referred to with a natural-number index.\n",
    "#FOR THE PURPOSES OF THE AP EXAM ONLY, the indexes start at 1.\n",
    "#IN PYTHON (and most other languages), the indexes start at 0.\n",
    "\n",
    "#Example string\n",
    "name = \"llanfairpwllgwyngyllgogerychwyrndrobwllllantysiliogogogoch\"\n",
    "\n",
    "#Returning the 18th character in the string ('y') - Remember that Python indices start at 0!\n",
    "print(name[17])\n",
    "\n",
    "#Example list\n",
    "rn_list = [\"Ramskoeldia consimilis\", 187.52, \"e\", True, 0, None, \"987654\", [1,5,8]]\n",
    "\n",
    "#Returning the 1st, 4th, and 7th elements in the list\n",
    "print(rn_list[0])\n",
    "print(rn_list[3])\n",
    "print(rn_list[6])"
   ]
  },
  {
   "cell_type": "markdown",
   "metadata": {},
   "source": [
    "<p style=\"color:DodgerBlue;\">Popcorn Hack #4 - Make your own list based on your intersts and access the items in the list according to your interest</p>"
   ]
  },
  {
   "cell_type": "markdown",
   "metadata": {},
   "source": [
    "## 3.2 Data Abstraction\n",
    "> Data abstraction is the process of hiding certain details and showing only essential information to the user. Abstraction can be achieved with either abstract classes or interfaces (which you will learn more about in the next chapter). You can also use the abstract keyword to create abstract methods that must be overridden in the subclass.You do this by putting information in lists, dictionaries, and objects. You can also create your own data types using classes. This is called data abstraction. Here is an example of data abstraction: \n",
    "\n",
    "```python\n",
    "\n",
    " def __init__(self, name, age):\n",
    "    self.name = name\n",
    "    self.age = age\n",
    "\n",
    " def myfunc(self):\n",
    "    print(\"Hello my name is \" + self.name)\n",
    "```\n",
    "This is a class called Person. It takes in two parameters, name and age. It also has a method called myfunc that prints out a message with the name of the person and their age. Lets see this as a list. Lets make a function that takes in a list of people and prints out their names and ages. \n",
    "\n",
    "```python\n",
    "def print_people(people):\n",
    "    for person in people:\n",
    "        print(person.name + \" is \" + str(person.age) + \" years old\") // this will print out the key and the value\n",
    "```\n",
    "This function takes in a list of people and prints out their names and ages. Lets see this as a dictionary. Lets make a function that takes in a dictionary of people and prints out their names and ages. First lets make the dictionary. \n",
    "\n",
    "```python\n",
    "people = {\n",
    "    \"John\": 32,\n",
    "    \"Rob\": 23,\n",
    "    \"Amanda\": 19\n",
    "}\n",
    "```\n",
    "Then we can make the function. \n",
    "\n",
    "```python\n",
    "people = {\n",
    "    \"John\": 32,\n",
    "    \"Rob\": 23,\n",
    "    \"Amanda\": 19\n",
    "} // this is the dictionary\n",
    "def print_people(people): // this is the function\n",
    "    for person in people: // this is the for loop\n",
    "        print(person + \" is \" + str(people[person]) + \" years old\") // this will print out the key and the value\n",
    "```\n",
    " \n",
    "# Converting string to and from JSON\n",
    "First we need to import the json module. Then we can use the json.dumps() function to convert a string to JSON. We can also use the json.loads() function to convert JSON to a string. Here is an example of converting a string to JSON:\n",
    "\n",
    "```python\n",
    "import json\n",
    "dict = '{\"name\": \"John\", \"age\": 30, \"city\": \"New York\"}'\n",
    "json_obj = json.dumps(dict)\n",
    "print(json_obj)\n",
    "```\n",
    "\n",
    "# Hacks\n",
    "> - You can use the type() function to find out what type of data type a variable is as shown below:\n",
    "```python\n",
    "x = 5\n",
    "print(type(x))\n",
    "```\n",
    "> - You can use the isinstance() function to check if a variable is a certain data type as shown below:\n",
    "```python\n",
    "x = 5\n",
    "print(isinstance(x, int))\n",
    "```\n",
    "> - You can use the dir() function to find out what methods an object has as shown below:\n",
    "```python\n",
    "x = 5\n",
    "print(dir(x))\n",
    "```\n",
    "\n",
    "# Homework\n",
    "> - Create a class called Person with the attributes name and age. Then create a function called print_people that takes in a list of people and prints out their names and ages.\n",
    "> - Create a function that takes in a dictionary of people and their ages and prints out the name of the oldest person."
   ]
  },
  {
   "cell_type": "markdown",
   "metadata": {},
   "source": [
    "<h4>JSON</h4>\n",
    "\n",
    "JSON is used to represent structured data, especially lists in JavaScript. However you can also use this in python as well. "
   ]
  },
  {
   "cell_type": "markdown",
   "metadata": {},
   "source": [
    "# Converting string to and from JSON\n",
    "First we need to import the json module. Then we can use the json.dumps() function to convert a string to JSON. We can also use the json.loads() function to convert JSON to a string. Here is an example of converting a string to JSON:"
   ]
  },
  {
   "cell_type": "code",
   "execution_count": 1,
   "metadata": {},
   "outputs": [
    {
     "name": "stdout",
     "output_type": "stream",
     "text": [
      "[\"Torin\", \"Remy\", \"Nandan\", \"Arnav\"]\n"
     ]
    }
   ],
   "source": [
    "\n",
    "import json\n",
    "list = [\"Torin\", \"Remy\", \"Nandan\", \"Arnav\"]\n",
    "json_obj = json.dumps(list)\n",
    "print(json_obj)"
   ]
  },
  {
   "cell_type": "markdown",
   "metadata": {},
   "source": [
    "<p style=\"color:DodgerBlue;\">Popcorn Hack #5 - Try using some of the lists in order to assign it to variables many times. Do JSON with a different list as well. </p>"
   ]
  },
  {
   "cell_type": "markdown",
   "metadata": {},
   "source": [
    "## Hack 1 \n",
    "Identify the correct variable types for each of the practice problems\n",
    "* String\n",
    "* Boolean\n",
    "* Integer\n",
    "* List\n",
    "\n"
   ]
  },
  {
   "cell_type": "code",
   "execution_count": 30,
   "metadata": {},
   "outputs": [
    {
     "name": "stdout",
     "output_type": "stream",
     "text": [
      "15\n",
      "Pizza\n",
      "['Nandan', 'Arnav', 'Torin', 'Remy']\n",
      "True\n",
      "{'Nandan': 'TeamMate1', 'Arnav': 'TeamMate2', 'Torin': 'TeamMate3', 'Remy': 'TeamMate4'}\n"
     ]
    }
   ],
   "source": [
    "secretNumber = 15\n",
    "print(secretNumber)\n",
    "\n",
    "food = \"Pizza\"\n",
    "print(food)\n",
    "\n",
    "names = [\"Nandan\", \"Arnav\", \"Torin\", \"Remy\"]\n",
    "print(names)\n",
    "\n",
    "IamCool = True\n",
    "\n",
    "print(IamCool)\n",
    "\n",
    "##Bonus Problem:\n",
    "\n",
    "names_2 = {\n",
    "    \"Nandan\": \"TeamMate1\",\n",
    "    \"Arnav\": \"TeamMate2\",\n",
    "    \"Torin\": \"TeamMate3\",\n",
    "    \"Remy\": \"TeamMate4\",\n",
    "}\n",
    "\n",
    "print(names_2)\n",
    "\n"
   ]
  },
  {
   "cell_type": "markdown",
   "metadata": {},
   "source": [
    "## Hack 2\n",
    "\n",
    "Create a program of interest using the variable types, lists, and assignment operators that have been discussed in the lesson. This could be anything, use what you learned and are interested in to create a small program showcasing what you've learnt so far. "
   ]
  }
 ],
 "metadata": {
  "kernelspec": {
   "display_name": "Python 3",
   "language": "python",
   "name": "python3"
  },
  "language_info": {
   "codemirror_mode": {
    "name": "ipython",
    "version": 3
   },
   "file_extension": ".py",
   "mimetype": "text/x-python",
   "name": "python",
   "nbconvert_exporter": "python",
   "pygments_lexer": "ipython3",
   "version": "3.11.5"
  },
  "orig_nbformat": 4
 },
 "nbformat": 4,
 "nbformat_minor": 2
}
