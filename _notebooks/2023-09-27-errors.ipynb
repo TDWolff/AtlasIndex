{
 "cells": [
  {
   "cell_type": "markdown",
   "metadata": {},
   "source": [
    "---\n",
    "toc: True\n",
    "comments: True\n",
    "layout: post\n",
    "title: Javascript Errors\n",
    "description: Team Test Stuff\n",
    "type: tangibles\n",
    "courses: {'compsci': {'week': 7}}\n",
    "---\n",
    "\n",
    "# Errors in JavaScript\n",
    "\n",
    "## What are errors?\n",
    "Errors in JavaScript are like spelling mistakes in your favorite comic book; they make the story go haywire. But in the world of coding, we call them \"bugs\" or \"errors.\" Errors happen when the computer can't understand your instructions because you've made a mistake in your code."
   ]
  },
  {
   "cell_type": "markdown",
   "metadata": {},
   "source": [
    "Can you spot the error in this script below?"
   ]
  },
  {
   "cell_type": "code",
   "execution_count": 3,
   "metadata": {
    "vscode": {
     "languageId": "javascript"
    }
   },
   "outputs": [
    {
     "ename": "SyntaxError",
     "evalue": "invalid syntax (2066016171.py, line 1)",
     "output_type": "error",
     "traceback": [
      "\u001b[0;36m  Cell \u001b[0;32mIn[3], line 1\u001b[0;36m\u001b[0m\n\u001b[0;31m    console.log(\"Hello, world!\";\u001b[0m\n\u001b[0m                               ^\u001b[0m\n\u001b[0;31mSyntaxError\u001b[0m\u001b[0;31m:\u001b[0m invalid syntax\n"
     ]
    }
   ],
   "source": [
    "console.log(\"Hello, world!\";"
   ]
  },
  {
   "cell_type": "markdown",
   "metadata": {},
   "source": [
    "Oops! We forgot to close the parentheses at the end of the console.log() function. Computers are very picky about syntax. To fix this, just add the missing ) like so:"
   ]
  },
  {
   "cell_type": "code",
   "execution_count": 4,
   "metadata": {
    "vscode": {
     "languageId": "javascript"
    }
   },
   "outputs": [
    {
     "ename": "NameError",
     "evalue": "name 'console' is not defined",
     "output_type": "error",
     "traceback": [
      "\u001b[0;31m---------------------------------------------------------------------------\u001b[0m",
      "\u001b[0;31mNameError\u001b[0m                                 Traceback (most recent call last)",
      "\u001b[1;32m/Users/torinwolff/Documents/GitHub/NART_Movie/_notebooks/2023-09-27-errors.ipynb Cell 5\u001b[0m line \u001b[0;36m1\n\u001b[0;32m----> <a href='vscode-notebook-cell:/Users/torinwolff/Documents/GitHub/NART_Movie/_notebooks/2023-09-27-errors.ipynb#W4sZmlsZQ%3D%3D?line=0'>1</a>\u001b[0m console\u001b[39m.\u001b[39mlog(\u001b[39m\"\u001b[39m\u001b[39mHello, world!\u001b[39m\u001b[39m\"\u001b[39m);\n",
      "\u001b[0;31mNameError\u001b[0m: name 'console' is not defined"
     ]
    }
   ],
   "source": [
    "console.log(\"Hello, world!\");"
   ]
  },
  {
   "cell_type": "markdown",
   "metadata": {},
   "source": [
    "## Types of Errors\n",
    "There are three main types of errors in JavaScript:\n",
    "Reference errors\n",
    "Syntax errors\n",
    "Type errors\n",
    "\n",
    "### Reference Errors\n",
    "Reference errors occur when you try to use a variable that doesn't exist. For example:"
   ]
  },
  {
   "cell_type": "code",
   "execution_count": null,
   "metadata": {
    "vscode": {
     "languageId": "javascript"
    }
   },
   "outputs": [],
   "source": [
    "let name = \"Alice\";\n",
    "console.log(alice);"
   ]
  },
  {
   "cell_type": "markdown",
   "metadata": {},
   "source": [
    "The script above will throw a reference error because the variable \"alice\" is not defined. To fix this, we need to switch alice with the known variable name."
   ]
  },
  {
   "cell_type": "code",
   "execution_count": null,
   "metadata": {
    "vscode": {
     "languageId": "javascript"
    }
   },
   "outputs": [],
   "source": [
    "let name = \"Alice\";\n",
    "console.log(name);"
   ]
  },
  {
   "cell_type": "markdown",
   "metadata": {},
   "source": [
    "## Type Errors\n",
    "Type errors in JavaScript are errors that occur when the type of a variable or expression does not match the type that is expected. For example, if you try to add a string to a number, you will get a type error.\n",
    "\n",
    "Here are some examples of type errors in JavaScript:"
   ]
  },
  {
   "cell_type": "code",
   "execution_count": null,
   "metadata": {
    "vscode": {
     "languageId": "javascript"
    }
   },
   "outputs": [],
   "source": [
    "// Type error: trying to add a string to a number\n",
    "var x = \"1\";\n",
    "var y = 2;\n",
    "x + y; // Error: Type error: Cannot implicitly convert type 'string' to 'number'\n",
    "\n",
    "// Type error: trying to access a property that does not exist\n",
    "var obj = {\n",
    "  name: \"John Doe\"\n",
    "};\n",
    "obj.age; // Error: Type error: Cannot read property 'age' of undefined\n",
    "\n",
    "// Type error: trying to call a method that does not exist\n",
    "var myObj = {\n",
    "  sayHello: function() {\n",
    "    console.log(\"Hello!\");\n",
    "  }\n",
    "};\n",
    "myObj.sayGoodbye(); // Error: Type error: Cannot call method"
   ]
  },
  {
   "cell_type": "markdown",
   "metadata": {},
   "source": [
    "Type errors can be avoided by using the correct types for variables and expressions. For example, you can use the typeof operator to check the type of a variable or expression. Type errors can also be avoided by using type annotations. Type annotations are a way of specifying the types of variables and expressions. Type annotations can be used to improve the readability and maintainability of your code. They can also help to prevent type errors from occurring."
   ]
  },
  {
   "cell_type": "markdown",
   "metadata": {},
   "source": [
    "## Syntax Errors\n",
    "Syntax errors occur when you try to execute code that does not follow the rules of the JavaScript language. For example, if you try to use a reserved word as a variable name, you will get a syntax error."
   ]
  },
  {
   "cell_type": "code",
   "execution_count": null,
   "metadata": {
    "vscode": {
     "languageId": "javascript"
    }
   },
   "outputs": [],
   "source": [
    "var x = 10;\n",
    "y = 20;"
   ]
  },
  {
   "cell_type": "markdown",
   "metadata": {},
   "source": [
    "In this example we are trying to access a variable x but we used an invalid variable to change it as seen in x and y. So js will throw a syntax error.\n",
    "\n",
    "\n",
    "\n",
    "## Hacks\n",
    "### Try/Catch\n",
    "The try/catch statement allows you to test a block of code for errors. The try block contains code that might throw an error. The catch block contains code that handles the error. The finally block contains code that is always executed, regardless of whether an error occurs or not. Here is an example of a try/catch statement:\n",
    "```javascript\n",
    "try {\n",
    "  // Code that might throw an error\n",
    "} catch (error) {\n",
    "  // Code that handles the error\n",
    "} finally {\n",
    "  // Code that is always executed\n",
    "}\n",
    "```\n",
    "\n",
    "### Throw\n",
    "The throw statement allows you to create custom errors. Here is an example of a throw statement:\n",
    "```javascript\n",
    "throw new Error('This is a custom error message');\n",
    "```"
   ]
  }
 ],
 "metadata": {
  "kernelspec": {
   "display_name": "Python 3",
   "language": "python",
   "name": "python3"
  },
  "language_info": {
   "codemirror_mode": {
    "name": "ipython",
    "version": 3
   },
   "file_extension": ".py",
   "mimetype": "text/x-python",
   "name": "python",
   "nbconvert_exporter": "python",
   "pygments_lexer": "ipython3",
   "version": "3.11.5"
  },
  "orig_nbformat": 4
 },
 "nbformat": 4,
 "nbformat_minor": 2
}
